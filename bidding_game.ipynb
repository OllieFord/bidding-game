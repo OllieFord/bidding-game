{
 "cells": [
  {
   "cell_type": "code",
   "execution_count": 1,
   "id": "39c767a5-7688-4dc2-89b6-30c87ae6ea50",
   "metadata": {},
   "outputs": [],
   "source": [
    "import numpy as np"
   ]
  },
  {
   "cell_type": "code",
   "execution_count": 2,
   "id": "8d7aecea-4620-48c4-a081-b2ddf770ad09",
   "metadata": {},
   "outputs": [],
   "source": [
    "data = [{\n",
    "    'timestamp': '2024-03-22 00:00:00',\n",
    "    'fcr_n_price': 77.77,\n",
    "    'fcr_n_price_upper': 89.77,\n",
    "    'fcr_n_price_lower': 73.77,\n",
    "    'spot_price': 35.28\n",
    "},\n",
    "{\n",
    "    'timestamp': '2024-03-22 01:00:00',\n",
    "    'fcr_n_price': 68.78,\n",
    "    'fcr_n_price_upper': 69.78,\n",
    "    'fcr_n_price_lower': 64.78,\n",
    "    'spot_price': 85.2\n",
    "},\n",
    "{\n",
    "    'timestamp': '2024-03-22 02:00:00',\n",
    "    'fcr_n_price': 20.16,\n",
    "    'fcr_n_price_upper': 42.16,\n",
    "    'fcr_n_price_lower': 16.16,\n",
    "    'spot_price': 92.75\n",
    "},\n",
    "{\n",
    "    'timestamp': '2024-03-22 03:00:00',\n",
    "    'fcr_n_price': 36.82,\n",
    "    'fcr_n_price_upper': 37.32,\n",
    "    'fcr_n_price_lower': 17.82,\n",
    "    'spot_price': 55.98\n",
    "},\n",
    "{\n",
    "    'timestamp': '2024-03-22 04:00:00',\n",
    "    'fcr_n_price': 16.57,\n",
    "    'fcr_n_price_upper': 20.57,\n",
    "    'fcr_n_price_lower': 11.57,\n",
    "    'spot_price': 38.17\n",
    "},\n",
    "{\n",
    "    'timestamp': '2024-03-22 05:00:00',\n",
    "    'fcr_n_price': 12.86,\n",
    "    'fcr_n_price_upper': 15.86,\n",
    "    'fcr_n_price_lower': 6.86,\n",
    "    'spot_price': 56.58\n",
    "},\n",
    "{\n",
    "    'timestamp': '2024-03-22 06:00:00',\n",
    "    'fcr_n_price': 10.78,\n",
    "    'fcr_n_price_upper': 14.78,\n",
    "    'fcr_n_price_lower': 7.78,\n",
    "    'spot_price': 170.47\n",
    "},\n",
    "{\n",
    "    'timestamp': '2024-03-22 07:00:00',\n",
    "    'fcr_n_price': 31.53,\n",
    "    'fcr_n_price_upper': 35.53,\n",
    "    'fcr_n_price_lower': 27.53,\n",
    "    'spot_price': 205.72\n",
    "},\n",
    "{\n",
    "    'timestamp': '2024-03-22 08:00:00',\n",
    "    'fcr_n_price': 32.84,\n",
    "    'fcr_n_price_upper': 38.84,\n",
    "    'fcr_n_price_lower': 25.84,\n",
    "    'spot_price': 195.25\n",
    "},\n",
    "{\n",
    "    'timestamp': '2024-03-22 09:00:00',\n",
    "    'fcr_n_price': 48.12,\n",
    "    'fcr_n_price_upper': 63.12,\n",
    "    'fcr_n_price_lower': 45.12,\n",
    "    'spot_price': 230.9\n",
    "},\n",
    "{\n",
    "    'timestamp': '2024-03-22 10:00:00',\n",
    "    'fcr_n_price': 48.12,\n",
    "    'fcr_n_price_upper': 55.12,\n",
    "    'fcr_n_price_lower': 29.12,\n",
    "    'spot_price': 160.41\n",
    "},\n",
    "{\n",
    "    'timestamp': '2024-03-22 11:00:00',\n",
    "    'fcr_n_price': 23.45,\n",
    "    'fcr_n_price_upper': 35.45,\n",
    "    'fcr_n_price_lower': 16.45,\n",
    "    'spot_price': 140.46\n",
    "},\n",
    "{\n",
    "    'timestamp': '2024-03-22 12:00:00',\n",
    "    'fcr_n_price': 23.55,\n",
    "    'fcr_n_price_upper': 31.55,\n",
    "    'fcr_n_price_lower': 8.55,\n",
    "    'spot_price': 94.07\n",
    "},\n",
    "{\n",
    "    'timestamp': '2024-03-22 13:00:00',\n",
    "    'fcr_n_price': 10.16,\n",
    "    'fcr_n_price_upper': 11.16,\n",
    "    'fcr_n_price_lower': 5.16,\n",
    "    'spot_price': 99.93\n",
    "},\n",
    "{\n",
    "    'timestamp': '2024-03-22 14:00:00',\n",
    "    'fcr_n_price': 7.54,\n",
    "    'fcr_n_price_upper': 9.54,\n",
    "    'fcr_n_price_lower': 5.54,\n",
    "    'spot_price': 92.55\n",
    "},\n",
    "{\n",
    "    'timestamp': '2024-03-22 15:00:00',\n",
    "    'fcr_n_price': 5.73,\n",
    "    'fcr_n_price_upper': 7.73,\n",
    "    'fcr_n_price_lower': 4.73,\n",
    "    'spot_price': 82.62\n",
    "},\n",
    "{\n",
    "    'timestamp': '2024-03-22 16:00:00',\n",
    "    'fcr_n_price': 4.56,\n",
    "    'fcr_n_price_upper': 6.56,\n",
    "    'fcr_n_price_lower': 2.56,\n",
    "    'spot_price': 179.71\n",
    "},\n",
    "{\n",
    "    'timestamp': '2024-03-22 17:00:00',\n",
    "    'fcr_n_price': 5.63,\n",
    "    'fcr_n_price_upper': 7.63,\n",
    "    'fcr_n_price_lower': 5.13,\n",
    "    'spot_price': 170.83\n",
    "},\n",
    "{\n",
    "    'timestamp': '2024-03-22 18:00:00',\n",
    "    'fcr_n_price': 5.41,\n",
    "    'fcr_n_price_upper': 8.41,\n",
    "    'fcr_n_price_lower': 2.41,\n",
    "    'spot_price': 180.27\n",
    "},\n",
    "{\n",
    "    'timestamp': '2024-03-22 19:00:00',\n",
    "    'fcr_n_price': 11.73,\n",
    "    'fcr_n_price_upper': 17.73,\n",
    "    'fcr_n_price_lower': 3.73,\n",
    "    'spot_price': 214.55\n",
    "},\n",
    "{\n",
    "    'timestamp': '2024-03-22 20:00:00',\n",
    "    'fcr_n_price': 32.86,\n",
    "    'fcr_n_price_upper': 36.86,\n",
    "    'fcr_n_price_lower': 15.86,\n",
    "    'spot_price': 150.62\n",
    "},\n",
    "{\n",
    "    'timestamp': '2024-03-22 21:00:00',\n",
    "    'fcr_n_price': 20.51,\n",
    "    'fcr_n_price_upper': 34.51,\n",
    "    'fcr_n_price_lower': 18.51,\n",
    "    'spot_price': 79.22\n",
    "},\n",
    "{\n",
    "    'timestamp': '2024-03-22 22:00:00',\n",
    "    'fcr_n_price': 35.09,\n",
    "    'fcr_n_price_upper': 43.09,\n",
    "    'fcr_n_price_lower': 33.09,\n",
    "    'spot_price': 33.9\n",
    "},\n",
    "{\n",
    "    'timestamp': '2024-03-22 23:00:00',\n",
    "    'fcr_n_price': 47.12,\n",
    "    'fcr_n_price_upper': 49.12,\n",
    "    'fcr_n_price_lower': 45.12,\n",
    "    'spot_price': 49.12\n",
    "}]"
   ]
  },
  {
   "cell_type": "code",
   "execution_count": 3,
   "id": "b0c24da1-8f96-4429-ad5e-f0e88ac98ba4",
   "metadata": {},
   "outputs": [],
   "source": [
    "fcrn_actual = [d[\"fcr_n_price\"] for d in data]\n",
    "fcrn_estimated = [(d[\"fcr_n_price_upper\"] + d[\"fcr_n_price_lower\"]) / 2 for d in data]\n",
    "spot = [ d[\"spot_price\"] for d in data]"
   ]
  },
  {
   "cell_type": "code",
   "execution_count": 4,
   "id": "2469a88a-3d07-4e5d-9e83-d1224bfec600",
   "metadata": {},
   "outputs": [],
   "source": [
    "def simulate_battery(actions):\n",
    "    soc = [0]*len(actions)\n",
    "    valid_actions = [0]*len(actions)\n",
    "    last = 0\n",
    "    for i, a in enumerate(actions):\n",
    "        a = 0 if (last == 0 and a == -1) else a\n",
    "        a = 0 if (last == 2 and a == 1) else a\n",
    "        new = last + a\n",
    "        soc[i] = new\n",
    "        valid_actions[i] = a\n",
    "        last = new\n",
    "    return np.array(soc), np.array(valid_actions)\n",
    "        "
   ]
  },
  {
   "cell_type": "code",
   "execution_count": 5,
   "id": "fb606f2f-b1a6-461f-9fe7-66c41bebb959",
   "metadata": {},
   "outputs": [],
   "source": [
    "def run_simulation(actions, fcrn, spot):\n",
    "    l = len(actions)\n",
    "    actions = np.array(actions)\n",
    "    soc, actions = simulate_battery(actions)\n",
    "    revenue = np.sum(fcrn[:l] * ((soc == 1) & (actions == 0)) - actions*spot[:l])\n",
    "    final_soc = soc[-1]\n",
    "    return revenue, soc[-1], list(actions)"
   ]
  },
  {
   "cell_type": "code",
   "execution_count": 6,
   "id": "c8082518-31d7-48ba-829e-46a5ce057e3b",
   "metadata": {},
   "outputs": [],
   "source": [
    "def find_optimal_actions(fcrn, spot):\n",
    "    possible_actions = [-1, 0, 1]\n",
    "    n_ptus = 24\n",
    "    \n",
    "    prev_best_strat = {0: (0, [])}\n",
    "    for i in range(n_ptus):\n",
    "        new_best_strats = {}\n",
    "        # for each previous best SoC\n",
    "        for _, state in prev_best_strat.items():\n",
    "            _, prev_actions = state\n",
    "            # try all new possible actions\n",
    "            for a in possible_actions:\n",
    "                # append list of previous best actions with our new candidate action\n",
    "                new_actions = prev_actions + [a]\n",
    "                new_rev, new_soc, new_actions = run_simulation(new_actions, fcrn, spot)\n",
    "                # keep track of best revenue and actions for new PTU for each SoC\n",
    "                if new_soc not in new_best_strats:\n",
    "                    new_best_strats[new_soc] = (new_rev, new_actions)\n",
    "                else:\n",
    "                    if new_rev > new_best_strats[new_soc][0]:\n",
    "                        new_best_strats[new_soc] = (new_rev, new_actions)\n",
    "        # move on to next PTU\n",
    "        prev_best_strat = new_best_strats\n",
    "\n",
    "    # take the max over different final SoC and return optimal actions\n",
    "    return max(new_best_strats.values())[1]\n"
   ]
  },
  {
   "cell_type": "code",
   "execution_count": 7,
   "id": "80740737-a7f1-4f0a-86b4-509848cb679c",
   "metadata": {},
   "outputs": [
    {
     "data": {
      "text/plain": [
       "[1, 0, 0, 0, 1, 0, 0, -1, 0, 0, 0, -1, 1, 0, 0, 1, -1, 0, 0, -1, 0, 0, 1, -1]"
      ]
     },
     "execution_count": 7,
     "metadata": {},
     "output_type": "execute_result"
    }
   ],
   "source": [
    "optimal_actions = find_optimal_actions(fcrn_estimated, spot)\n",
    "optimal_actions"
   ]
  },
  {
   "cell_type": "code",
   "execution_count": 8,
   "id": "40310a21-2867-4979-9ae6-4a4c99b8034f",
   "metadata": {},
   "outputs": [
    {
     "data": {
      "text/plain": [
       "(785.6,\n",
       " 0,\n",
       " [1, 0, 0, 0, 1, 0, 0, -1, 0, 0, 0, -1, 1, 0, 0, 1, -1, 0, 0, -1, 0, 0, 1, -1])"
      ]
     },
     "execution_count": 8,
     "metadata": {},
     "output_type": "execute_result"
    }
   ],
   "source": [
    "run_simulation(optimal_actions, fcrn_estimated, spot)"
   ]
  },
  {
   "cell_type": "code",
   "execution_count": 9,
   "id": "99f9b71b-49bf-4e88-9dc4-9003b69deb11",
   "metadata": {},
   "outputs": [],
   "source": [
    "mapping = {\n",
    "    0: 0, \n",
    "    -1: 2, \n",
    "    1: 1, \n",
    "}\n",
    "def translate_actions_to_game(actions):\n",
    "    soc, actions = simulate_battery(actions)\n",
    "    fcrn_active = ((soc == 1) & (actions == 0))\n",
    "    return [mapping[a] if not fcrn else 3 for a, fcrn in zip(actions, fcrn_active)]\n",
    "    return fcrn_active\n",
    "    "
   ]
  },
  {
   "cell_type": "code",
   "execution_count": 10,
   "id": "167f7448-f161-4c73-8e10-05aab7be83a0",
   "metadata": {},
   "outputs": [
    {
     "data": {
      "text/plain": [
       "[1, 3, 3, 3, 1, 0, 0, 2, 3, 3, 3, 2, 1, 3, 3, 1, 2, 3, 3, 2, 0, 0, 1, 2]"
      ]
     },
     "execution_count": 10,
     "metadata": {},
     "output_type": "execute_result"
    }
   ],
   "source": [
    "translate_actions_to_game(optimal_actions)"
   ]
  },
  {
   "cell_type": "code",
   "execution_count": 11,
   "id": "1e0bc6a8-6def-47ea-ab0d-257ec2ea6125",
   "metadata": {},
   "outputs": [
    {
     "name": "stdout",
     "output_type": "stream",
     "text": [
      "Best revenue estimated FCRN prices: 785.6\n"
     ]
    }
   ],
   "source": [
    "r = run_simulation(find_optimal_actions(fcrn_estimated, spot), fcrn_estimated, spot)[0]\n",
    "print(f\"Best revenue estimated FCRN prices: {r}\")"
   ]
  },
  {
   "cell_type": "code",
   "execution_count": 12,
   "id": "5a6ae68c-b02d-4d02-a6ea-8c0d14474739",
   "metadata": {},
   "outputs": [
    {
     "name": "stdout",
     "output_type": "stream",
     "text": [
      "Best revenue actual FCRN prices: 789.7099999999999\n"
     ]
    }
   ],
   "source": [
    "r = run_simulation(find_optimal_actions(fcrn_actual, spot), fcrn_actual, spot)[0]\n",
    "print(f\"Best revenue actual FCRN prices: {r}\")"
   ]
  },
  {
   "cell_type": "code",
   "execution_count": null,
   "id": "9e794cf3-579e-4108-8e68-313f8b118ebe",
   "metadata": {},
   "outputs": [],
   "source": []
  }
 ],
 "metadata": {
  "kernelspec": {
   "display_name": "aoc",
   "language": "python",
   "name": "aoc"
  },
  "language_info": {
   "codemirror_mode": {
    "name": "ipython",
    "version": 3
   },
   "file_extension": ".py",
   "mimetype": "text/x-python",
   "name": "python",
   "nbconvert_exporter": "python",
   "pygments_lexer": "ipython3",
   "version": "3.11.8"
  }
 },
 "nbformat": 4,
 "nbformat_minor": 5
}
